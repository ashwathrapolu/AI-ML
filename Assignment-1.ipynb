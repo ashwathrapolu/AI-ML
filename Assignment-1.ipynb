{
 "cells": [
  {
   "cell_type": "code",
   "execution_count": 1,
   "metadata": {},
   "outputs": [
    {
     "data": {
      "text/plain": [
       "     con: array([], dtype=float64)\n",
       "     fun: -5778.9473684210525\n",
       " message: 'Optimization terminated successfully.'\n",
       "     nit: 3\n",
       "   slack: array([0.        , 0.        , 4.73684211])\n",
       "  status: 0\n",
       " success: True\n",
       "       x: array([97.89473684,  7.36842105])"
      ]
     },
     "execution_count": 1,
     "metadata": {},
     "output_type": "execute_result"
    }
   ],
   "source": [
    "from scipy.optimize import linprog\n",
    "\n",
    "obj = [-50,-120]\n",
    "\n",
    "#Performing LHS\n",
    "lhs = [[10, 30], [7000, 2000], [1, 1]]\n",
    "\n",
    "#Performing RHS\n",
    "rhs = [1200, 700000, 110]\n",
    "\n",
    "bound = [(0, float(\"inf\")), (0, float(\"inf\"))]\n",
    "\n",
    "optimize = linprog(c = obj, A_ub = lhs, b_ub = rhs, bounds = bound, method = \"Simplex\")\n",
    "\n",
    "optimize"
   ]
  },
  {
   "cell_type": "code",
   "execution_count": 3,
   "metadata": {},
   "outputs": [
    {
     "name": "stdout",
     "output_type": "stream",
     "text": [
      "The Farmer should Plant \n",
      "Wheat in 97.89473684210526 hect \n",
      "Barley in 7.368421052631579 hect\n"
     ]
    }
   ],
   "source": [
    "print(f'The Farmer should Plant \\nWheat in {optimize.x[0]} hect \\nBarley in {optimize.x[1]} hect')"
   ]
  },
  {
   "cell_type": "code",
   "execution_count": null,
   "metadata": {},
   "outputs": [],
   "source": []
  }
 ],
 "metadata": {
  "kernelspec": {
   "display_name": "Python 3",
   "language": "python",
   "name": "python3"
  },
  "language_info": {
   "codemirror_mode": {
    "name": "ipython",
    "version": 3
   },
   "file_extension": ".py",
   "mimetype": "text/x-python",
   "name": "python",
   "nbconvert_exporter": "python",
   "pygments_lexer": "ipython3",
   "version": "3.7.8"
  }
 },
 "nbformat": 4,
 "nbformat_minor": 4
}
