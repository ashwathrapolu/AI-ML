{
 "cells": [
  {
   "cell_type": "code",
   "execution_count": 6,
   "metadata": {},
   "outputs": [],
   "source": [
    "x = 1\n",
    "lr = 0.01\n",
    "min_thres = 0.000001 \n",
    "delta_x = 1\n",
    "max_iter = 1000  \n",
    "iter_count = 0 \n",
    "gradient = []\n",
    "\n",
    "equation = [(1, 4), (3, 2)] #f(x) = 1*(x)**4 + 3*(x)**2 + 10"
   ]
  },
  {
   "cell_type": "code",
   "execution_count": 7,
   "metadata": {},
   "outputs": [],
   "source": [
    "for i in equation:\n",
    "  coeff, power = i[0], i[1]\n",
    "  d_coeff, d_power = coeff * power, power - 1\n",
    "  gradient.append((d_coeff, d_power))"
   ]
  },
  {
   "cell_type": "code",
   "execution_count": 5,
   "metadata": {},
   "outputs": [
    {
     "name": "stdout",
     "output_type": "stream",
     "text": [
      "\n",
      "The local minima occurs at: 1.4980475020178746e-05\n"
     ]
    }
   ],
   "source": [
    "def gradient_at_x(value):\n",
    "  global gradient\n",
    "  return sum([c*(value**p) for c, p in gradient])\n",
    "\n",
    "while (abs(delta_x) > min_thres) and (iter_count < max_iter):\n",
    "  grad_value = gradient_at_x(x)\n",
    "  delta_x = -lr * grad_value\n",
    "  iter_count += 1\n",
    "  x += delta_x\n",
    "\n",
    "print(f\"\\nThe local minima occurs at: {x}\")"
   ]
  }
 ],
 "metadata": {
  "kernelspec": {
   "display_name": "Python 3",
   "language": "python",
   "name": "python3"
  },
  "language_info": {
   "codemirror_mode": {
    "name": "ipython",
    "version": 3
   },
   "file_extension": ".py",
   "mimetype": "text/x-python",
   "name": "python",
   "nbconvert_exporter": "python",
   "pygments_lexer": "ipython3",
   "version": "3.7.8"
  }
 },
 "nbformat": 4,
 "nbformat_minor": 4
}
