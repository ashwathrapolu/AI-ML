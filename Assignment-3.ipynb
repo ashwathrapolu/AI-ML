{
 "cells": [
  {
   "cell_type": "code",
   "execution_count": 7,
   "metadata": {},
   "outputs": [],
   "source": [
    "import math\n",
    "x = 1\n",
    "y = 2\n",
    "lr = 0.01\n",
    "min_thres = 0.000001\n",
    "delta_x = 1\n",
    "delta_y = 1\n",
    "max_iter = 1000\n",
    "iter_count = 0\n",
    "\n",
    "def grad(x,y):\n",
    "    x_der=6*(x)\n",
    "    y_der=-5*(math.exp(-y))\n",
    "    return x_der,y_der"
   ]
  },
  {
   "cell_type": "code",
   "execution_count": 9,
   "metadata": {},
   "outputs": [
    {
     "name": "stdout",
     "output_type": "stream",
     "text": [
      "\n",
      "The local minima occurs at: 1.3423123924933694e-27, 4.050747436938924\n"
     ]
    }
   ],
   "source": [
    "while max(abs(delta_x), abs(delta_y)) > min_thres and (iter_count < max_iter):\n",
    "  grad_value_x, grad_value_y = grad(x, y)\n",
    "  delta_x = -lr * grad_value_x\n",
    "  delta_y = -lr * grad_value_y\n",
    "  iter_count += 1\n",
    "  x += delta_x\n",
    "  y += delta_y\n",
    "\n",
    "print(f\"\\nThe local minima occurs at: {x}, {y}\")"
   ]
  }
 ],
 "metadata": {
  "kernelspec": {
   "display_name": "Python 3",
   "language": "python",
   "name": "python3"
  },
  "language_info": {
   "codemirror_mode": {
    "name": "ipython",
    "version": 3
   },
   "file_extension": ".py",
   "mimetype": "text/x-python",
   "name": "python",
   "nbconvert_exporter": "python",
   "pygments_lexer": "ipython3",
   "version": "3.7.8"
  }
 },
 "nbformat": 4,
 "nbformat_minor": 4
}
