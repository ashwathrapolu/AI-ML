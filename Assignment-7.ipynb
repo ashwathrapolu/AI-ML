{
 "cells": [
  {
   "cell_type": "code",
   "execution_count": 5,
   "metadata": {},
   "outputs": [
    {
     "data": {
      "text/html": [
       "<div>\n",
       "<style scoped>\n",
       "    .dataframe tbody tr th:only-of-type {\n",
       "        vertical-align: middle;\n",
       "    }\n",
       "\n",
       "    .dataframe tbody tr th {\n",
       "        vertical-align: top;\n",
       "    }\n",
       "\n",
       "    .dataframe thead th {\n",
       "        text-align: right;\n",
       "    }\n",
       "</style>\n",
       "<table border=\"1\" class=\"dataframe\">\n",
       "  <thead>\n",
       "    <tr style=\"text-align: right;\">\n",
       "      <th></th>\n",
       "      <th>Day_1</th>\n",
       "      <th>Day_2</th>\n",
       "    </tr>\n",
       "  </thead>\n",
       "  <tbody>\n",
       "    <tr>\n",
       "      <th>0</th>\n",
       "      <td>5551.82208</td>\n",
       "      <td>4931.26380</td>\n",
       "    </tr>\n",
       "    <tr>\n",
       "      <th>1</th>\n",
       "      <td>4983.17184</td>\n",
       "      <td>4775.53968</td>\n",
       "    </tr>\n",
       "    <tr>\n",
       "      <th>2</th>\n",
       "      <td>4888.39680</td>\n",
       "      <td>4713.81120</td>\n",
       "    </tr>\n",
       "    <tr>\n",
       "      <th>3</th>\n",
       "      <td>5072.95872</td>\n",
       "      <td>4689.02628</td>\n",
       "    </tr>\n",
       "    <tr>\n",
       "      <th>4</th>\n",
       "      <td>5196.25980</td>\n",
       "      <td>4844.75040</td>\n",
       "    </tr>\n",
       "  </tbody>\n",
       "</table>\n",
       "</div>"
      ],
      "text/plain": [
       "        Day_1       Day_2\n",
       "0  5551.82208  4931.26380\n",
       "1  4983.17184  4775.53968\n",
       "2  4888.39680  4713.81120\n",
       "3  5072.95872  4689.02628\n",
       "4  5196.25980  4844.75040"
      ]
     },
     "execution_count": 6,
     "metadata": {},
     "output_type": "execute_result"
    }
   ],
   "source": [
    "data = pd.read_csv('load_data7.csv')\n",
    "data.head()\n"
   ]
  },
  {
   "cell_type": "code",
   "execution_count": 7,
   "metadata": {
    "colab": {
     "base_uri": "https://localhost:8080/",
     "height": 204
    },
    "colab_type": "code",
    "id": "hxr9o4JYtbTP",
    "outputId": "88c9b1f6-254b-47cb-f3db-1ac6b7798a81"
   },
   "outputs": [],
   "source": [
    "from sklearn import preprocessing\n",
    "data= preprocessing.normalize(data)"
   ]
  },
  {
   "cell_type": "code",
   "execution_count": 9,
   "metadata": {},
   "outputs": [
    {
     "data": {
      "text/html": [
       "<div>\n",
       "<style scoped>\n",
       "    .dataframe tbody tr th:only-of-type {\n",
       "        vertical-align: middle;\n",
       "    }\n",
       "\n",
       "    .dataframe tbody tr th {\n",
       "        vertical-align: top;\n",
       "    }\n",
       "\n",
       "    .dataframe thead th {\n",
       "        text-align: right;\n",
       "    }\n",
       "</style>\n",
       "<table border=\"1\" class=\"dataframe\">\n",
       "  <thead>\n",
       "    <tr style=\"text-align: right;\">\n",
       "      <th></th>\n",
       "      <th>Day_1</th>\n",
       "      <th>Day_2</th>\n",
       "    </tr>\n",
       "  </thead>\n",
       "  <tbody>\n",
       "    <tr>\n",
       "      <th>0</th>\n",
       "      <td>0.747656</td>\n",
       "      <td>0.664086</td>\n",
       "    </tr>\n",
       "    <tr>\n",
       "      <th>1</th>\n",
       "      <td>0.721988</td>\n",
       "      <td>0.691905</td>\n",
       "    </tr>\n",
       "    <tr>\n",
       "      <th>2</th>\n",
       "      <td>0.719844</td>\n",
       "      <td>0.694136</td>\n",
       "    </tr>\n",
       "    <tr>\n",
       "      <th>3</th>\n",
       "      <td>0.734349</td>\n",
       "      <td>0.678772</td>\n",
       "    </tr>\n",
       "    <tr>\n",
       "      <th>4</th>\n",
       "      <td>0.731413</td>\n",
       "      <td>0.681935</td>\n",
       "    </tr>\n",
       "    <tr>\n",
       "      <th>...</th>\n",
       "      <td>...</td>\n",
       "      <td>...</td>\n",
       "    </tr>\n",
       "    <tr>\n",
       "      <th>2155</th>\n",
       "      <td>0.708437</td>\n",
       "      <td>0.705774</td>\n",
       "    </tr>\n",
       "    <tr>\n",
       "      <th>2156</th>\n",
       "      <td>0.786318</td>\n",
       "      <td>0.617822</td>\n",
       "    </tr>\n",
       "    <tr>\n",
       "      <th>2157</th>\n",
       "      <td>0.833147</td>\n",
       "      <td>0.553052</td>\n",
       "    </tr>\n",
       "    <tr>\n",
       "      <th>2158</th>\n",
       "      <td>0.768713</td>\n",
       "      <td>0.639594</td>\n",
       "    </tr>\n",
       "    <tr>\n",
       "      <th>2159</th>\n",
       "      <td>0.631974</td>\n",
       "      <td>0.774990</td>\n",
       "    </tr>\n",
       "  </tbody>\n",
       "</table>\n",
       "<p>2160 rows × 2 columns</p>\n",
       "</div>"
      ],
      "text/plain": [
       "         Day_1     Day_2\n",
       "0     0.747656  0.664086\n",
       "1     0.721988  0.691905\n",
       "2     0.719844  0.694136\n",
       "3     0.734349  0.678772\n",
       "4     0.731413  0.681935\n",
       "...        ...       ...\n",
       "2155  0.708437  0.705774\n",
       "2156  0.786318  0.617822\n",
       "2157  0.833147  0.553052\n",
       "2158  0.768713  0.639594\n",
       "2159  0.631974  0.774990\n",
       "\n",
       "[2160 rows x 2 columns]"
      ]
     },
     "execution_count": 10,
     "metadata": {},
     "output_type": "execute_result"
    }
   ],
   "source": [
    "data= pd.DataFrame(data=data, columns=[\"Day_1\", \"Day_2\"])\n",
    "data"
   ]
  },
  {
   "cell_type": "code",
   "execution_count": 11,
   "metadata": {
    "colab": {},
    "colab_type": "code",
    "id": "_FaQPFYntdQH"
   },
   "outputs": [],
   "source": [
    "from sklearn.model_selection import train_test_split\n",
    "x_train, x_test, y_train, y_test = train_test_split(data.Day_1,data.Day_2, test_size = 0.10, random_state = 42)"
   ]
  },
  {
   "cell_type": "code",
   "execution_count": 12,
   "metadata": {
    "colab": {},
    "colab_type": "code",
    "id": "Njw13YfXteVb"
   },
   "outputs": [
    {
     "name": "stdout",
     "output_type": "stream",
     "text": [
      "Iteration: 1\tValue of m: 0.8882529977965948, \tValue of c: 0.0727267600158602\n",
      "Iteration: 2\tValue of m: 0.44074855515991157, \tValue of c: 0.39018504145544103\n",
      "Iteration: 3\tValue of m: 0.10032683525261485, \tValue of c: 0.6316791672561441\n",
      "Iteration: 4\tValue of m: -0.15863583940115875, \tValue of c: 0.8153864957648985\n",
      "Iteration: 5\tValue of m: -0.3556316917283779, \tValue of c: 0.9551347502449047\n",
      "Iteration: 6\tValue of m: -0.505488677434958, \tValue of c: 1.0614428370737772\n",
      "Iteration: 7\tValue of m: -0.6194865910953932, \tValue of c: 1.1423126079862433\n",
      "Iteration: 8\tValue of m: -0.7062061007509316, \tValue of c: 1.203831162618518\n",
      "Iteration: 9\tValue of m: -0.7721746181862386, \tValue of c: 1.2506290269050453\n",
      "Iteration: 10\tValue of m: -0.822357619795664, \tValue of c: 1.286228694596706\n",
      "Iteration: 11\tValue of m: -0.8605323999550204, \tValue of c: 1.3133097667584013\n",
      "Iteration: 12\tValue of m: -0.8895723894629695, \tValue of c: 1.333910646400845\n",
      "Iteration: 13\tValue of m: -0.9116634398135292, \tValue of c: 1.3495819698812632\n",
      "Iteration: 14\tValue of m: -0.9284683531024083, \tValue of c: 1.3615033239151944\n",
      "Iteration: 15\tValue of m: -0.941252041798294, \tValue of c: 1.3705720335350204\n",
      "Iteration: 16\tValue of m: -0.9509767392045799, \tValue of c: 1.3774707041000094\n",
      "Iteration: 17\tValue of m: -0.9583744271406419, \tValue of c: 1.382718601271648\n",
      "Iteration: 18\tValue of m: -0.9640019325028133, \tValue of c: 1.3867107363453042\n",
      "Iteration: 19\tValue of m: -0.9682828398450716, \tValue of c: 1.3897475989066412\n",
      "Iteration: 20\tValue of m: -0.9715393747559394, \tValue of c: 1.3920577748015683\n",
      "Iteration: 21\tValue of m: -0.9740166579059462, \tValue of c: 1.39381515188325\n",
      "Iteration: 22\tValue of m: -0.9759011553774186, \tValue of c: 1.3951520086195675\n",
      "Iteration: 23\tValue of m: -0.9773347140402565, \tValue of c: 1.396168970745722\n",
      "Iteration: 24\tValue of m: -0.9784252384219023, \tValue of c: 1.3969425854030992\n",
      "Iteration: 25\tValue of m: -0.9792548127238097, \tValue of c: 1.397531082872886\n",
      "Iteration: 26\tValue of m: -0.9798858793317367, \tValue of c: 1.3979787595923527\n",
      "Iteration: 27\tValue of m: -0.9803659388788117, \tValue of c: 1.3983193123652036\n",
      "Iteration: 28\tValue of m: -0.9807311256369836, \tValue of c: 1.398578374733324\n",
      "Iteration: 29\tValue of m: -0.9810089273579493, \tValue of c: 1.3987754464236049\n",
      "Iteration: 30\tValue of m: -0.981220254287099, \tValue of c: 1.3989253611001042\n",
      "Iteration: 31\tValue of m: -0.9813810130859623, \tValue of c: 1.3990394028998072\n",
      "Iteration: 32\tValue of m: -0.9815033041329021, \tValue of c: 1.3991261557940764\n",
      "Iteration: 33\tValue of m: -0.981596332323378, \tValue of c: 1.3991921497075666\n",
      "Iteration: 34\tValue of m: -0.981667099926073, \tValue of c: 1.3992423520282427\n",
      "Iteration: 35\tValue of m: -0.9817209336464279, \tValue of c: 1.3992805415046348\n",
      "Iteration: 36\tValue of m: -0.9817618855698659, \tValue of c: 1.3993095926737353\n",
      "Iteration: 37\tValue of m: -0.9817930381638564, \tValue of c: 1.3993316922285293\n",
      "Iteration: 38\tValue of m: -0.981816736296471, \tValue of c: 1.399348503611247\n",
      "Iteration: 39\tValue of m: -0.9818347637355173, \tValue of c: 1.3993612922213101\n",
      "Iteration: 40\tValue of m: -0.9818484774134604, \tValue of c: 1.3993710206624546\n",
      "Iteration: 41\tValue of m: -0.981858909564267, \tValue of c: 1.3993784211982956\n",
      "Iteration: 42\tValue of m: -0.9818668454200543, \tValue of c: 1.3993840508700934\n",
      "Iteration: 43\tValue of m: -0.9818728823158217, \tValue of c: 1.3993883334254666\n",
      "Iteration: 44\tValue of m: -0.9818774746511021, \tValue of c: 1.3993915912140538\n",
      "Iteration: 45\tValue of m: -0.9818809680927875, \tValue of c: 1.3993940694508895\n",
      "Iteration: 46\tValue of m: -0.9818836255936162, \tValue of c: 1.3993959546738408\n",
      "Iteration: 47\tValue of m: -0.9818856471847234, \tValue of c: 1.3993973887843827\n",
      "Iteration: 48\tValue of m: -0.9818871850320764, \tValue of c: 1.3993984797285857\n",
      "Iteration: 49\tValue of m: -0.9818883548900482, \tValue of c: 1.3993993096222492\n",
      "Iteration: 50\tValue of m: -0.9818892448143155, \tValue of c: 1.3993999409317996\n",
      "Iteration: 51\tValue of m: -0.9818899217898275, \tValue of c: 1.3994004211761548\n",
      "Iteration: 52\tValue of m: -0.9818904367727994, \tValue of c: 1.3994007865034988\n",
      "Iteration: 53\tValue of m: -0.9818908285262068, \tValue of c: 1.3994010644121664\n",
      "Iteration: 54\tValue of m: -0.9818911265374811, \tValue of c: 1.399401275820452\n",
      "Iteration: 55\tValue of m: -0.9818913532380442, \tValue of c: 1.3994014366411371\n",
      "Iteration: 56\tValue of m: -0.9818915256917435, \tValue of c: 1.3994015589792637\n",
      "Iteration: 57\tValue of m: -0.9818916568792344, \tValue of c: 1.3994016520432682\n",
      "Iteration: 58\tValue of m: -0.981891756675049, \tValue of c: 1.3994017228381133\n",
      "Iteration: 59\tValue of m: -0.9818918325908611, \tValue of c: 1.3994017766925584\n",
      "Iteration: 60\tValue of m: -0.981891890340884, \tValue of c: 1.3994018176602474\n",
      "Iteration: 61\tValue of m: -0.9818919342719838, \tValue of c: 1.399401848824835\n",
      "Iteration: 62\tValue of m: -0.9818919676908733, \tValue of c: 1.3994018725320931\n",
      "Iteration: 63\tValue of m: -0.981891993112999, \tValue of c: 1.3994018905664714\n",
      "Iteration: 64\tValue of m: -0.9818920124519017, \tValue of c: 1.3994019042854295\n",
      "Iteration: 65\tValue of m: -0.9818920271632239, \tValue of c: 1.3994019147215964\n",
      "Iteration: 66\tValue of m: -0.9818920383542931, \tValue of c: 1.399401922660507\n",
      "Iteration: 67\tValue of m: -0.981892046867467, \tValue of c: 1.3994019286997263\n",
      "Iteration: 68\tValue of m: -0.9818920533435368, \tValue of c: 1.3994019332938301\n",
      "Iteration: 69\tValue of m: -0.9818920582699544, \tValue of c: 1.3994019367886157\n",
      "Iteration: 70\tValue of m: -0.9818920620175369, \tValue of c: 1.3994019394471389\n",
      "Iteration: 71\tValue of m: -0.9818920648683672, \tValue of c: 1.3994019414695094\n",
      "Iteration: 72\tValue of m: -0.9818920670370238, \tValue of c: 1.399401943007948\n",
      "Iteration: 73\tValue of m: -0.9818920686867468, \tValue of c: 1.3994019441782561\n",
      "Iteration: 74\tValue of m: -0.981892069941709, \tValue of c: 1.3994019450685227\n",
      "Iteration: 75\tValue of m: -0.9818920708963736, \tValue of c: 1.3994019457457583\n",
      "Iteration: 76\tValue of m: -0.9818920716225961, \tValue of c: 1.3994019462609388\n",
      "Iteration: 77\tValue of m: -0.9818920721750427, \tValue of c: 1.3994019466528431\n",
      "Iteration: 78\tValue of m: -0.9818920725952981, \tValue of c: 1.3994019469509706\n",
      "Iteration: 79\tValue of m: -0.9818920729149909, \tValue of c: 1.39940194717776\n",
      "Iteration: 80\tValue of m: -0.9818920731581832, \tValue of c: 1.3994019473502795\n",
      "Iteration: 81\tValue of m: -0.9818920733431802, \tValue of c: 1.399401947481516\n",
      "Iteration: 82\tValue of m: -0.9818920734839088, \tValue of c: 1.3994019475813486\n",
      "Iteration: 83\tValue of m: -0.9818920735909638, \tValue of c: 1.399401947657293\n",
      "Iteration: 84\tValue of m: -0.9818920736724012, \tValue of c: 1.3994019477150643\n",
      "Iteration: 85\tValue of m: -0.9818920737343524, \tValue of c: 1.3994019477590125\n",
      "Iteration: 86\tValue of m: -0.98189207378148, \tValue of c: 1.3994019477924446\n",
      "Iteration: 87\tValue of m: -0.9818920738173295, \tValue of c: 1.3994019478178763\n",
      "Iteration: 88\tValue of m: -0.9818920738446033, \tValue of c: 1.3994019478372242\n",
      "Iteration: 89\tValue of m: -0.9818920738653503, \tValue of c: 1.399401947851942\n",
      "Iteration: 90\tValue of m: -0.9818920738811334, \tValue of c: 1.3994019478631385\n",
      "Iteration: 91\tValue of m: -0.9818920738931414, \tValue of c: 1.3994019478716568\n",
      "Iteration: 92\tValue of m: -0.981892073902275, \tValue of c: 1.3994019478781359\n",
      "Iteration: 93\tValue of m: -0.9818920739092211, \tValue of c: 1.399401947883064\n",
      "Iteration: 94\tValue of m: -0.9818920739145066, \tValue of c: 1.3994019478868132\n",
      "Iteration: 95\tValue of m: -0.981892073918524, \tValue of c: 1.3994019478896633\n",
      "Iteration: 96\tValue of m: -0.9818920739215777, \tValue of c: 1.3994019478918294\n",
      "Iteration: 97\tValue of m: -0.9818920739239057, \tValue of c: 1.3994019478934807\n",
      "Iteration: 98\tValue of m: -0.9818920739256741, \tValue of c: 1.3994019478947353\n",
      "Iteration: 99\tValue of m: -0.9818920739270206, \tValue of c: 1.3994019478956905\n",
      "Iteration: 100\tValue of m: -0.9818920739280459, \tValue of c: 1.399401947896418\n"
     ]
    }
   ],
   "source": [
    "m = 1 #Initial value of slope\n",
    "c = -1 #Initial value of intercept\n",
    "lr = 0.01 #Learning Rate\n",
    "delta_m = 1 #Initialising Δm\n",
    "delta_c = 1 #Initialising Δc\n",
    "v_m = 0\n",
    "v_c = 0\n",
    "lam = 0.9\n",
    "max_iters = 100 #Maximum number of iterations  \n",
    "iters_count = 0 #Counting Iterations\n",
    "\n",
    "\n",
    "def deriv(m_f, c_f, x, y):\n",
    "    m_deriv = -1*(y-m_f*x-c_f)*x\n",
    "    c_deriv = -1*(y-m_f*x-c_f)\n",
    "    return m_deriv, c_deriv  \n",
    "\n",
    "\n",
    "while iters_count < max_iters:\n",
    "    for i in range(x_train.shape[0]):\n",
    "        delta_m, delta_c = deriv(m, c, x_train.iloc[i], y_train.iloc[i])\n",
    "        v_m = lam * v_m - lr * delta_m\n",
    "        v_c = lam * v_c - lr * delta_c\n",
    "        m += v_m\n",
    "        c += v_c\n",
    "    iters_count += 1\n",
    "    print(f\"Iteration: {iters_count}\\tValue of m: {m}, \\tValue of c: {c}\")"
   ]
  },
  {
   "cell_type": "code",
   "execution_count": 13,
   "metadata": {
    "colab": {
     "base_uri": "https://localhost:8080/",
     "height": 51
    },
    "colab_type": "code",
    "id": "bBs4Sz35-MHK",
    "outputId": "71657185-2984-47ec-c150-92b728bacb87"
   },
   "outputs": [
    {
     "name": "stdout",
     "output_type": "stream",
     "text": [
      "\n",
      "The local minima occurs at: -0.9818920739280459, 1.399401947896418\n"
     ]
    }
   ],
   "source": [
    "print(f\"\\nThe local minima occurs at: {m}, {c}\")"
   ]
  },
  {
   "cell_type": "code",
   "execution_count": 16,
   "metadata": {
    "colab": {},
    "colab_type": "code",
    "id": "TP4i7ucLtjuX"
   },
   "outputs": [],
   "source": [
    "import numpy as np\n",
    "\n",
    "x_train = np.array(x_train)\n",
    "y_train = np.array(y_train)\n",
    "x_test = np.array(x_test)\n",
    "y_test = np.array(y_test)"
   ]
  },
  {
   "cell_type": "code",
   "execution_count": 18,
   "metadata": {
    "colab": {},
    "colab_type": "code",
    "id": "3p0sn6oDtmUX"
   },
   "outputs": [],
   "source": [
    "y_pred_train = []\n",
    "for i in x_train:\n",
    "    y_p_tr = (m * i) + c\n",
    "    y_pred_train.append(y_p_tr)\n",
    "y_pred_train = np.array(y_pred_train)"
   ]
  },
  {
   "cell_type": "code",
   "execution_count": 20,
   "metadata": {
    "colab": {},
    "colab_type": "code",
    "id": "OtfMlnErto0h"
   },
   "outputs": [],
   "source": [
    "y_pred_test = []\n",
    "for i in x_test:\n",
    "    y_p_te = (m * i) + c\n",
    "    y_pred_test.append(y_p_te)\n",
    "y_pred_test = np.array(y_pred_test)"
   ]
  },
  {
   "cell_type": "code",
   "execution_count": 21,
   "metadata": {
    "colab": {
     "base_uri": "https://localhost:8080/",
     "height": 68
    },
    "colab_type": "code",
    "id": "YfrgcC2gtp1f",
    "outputId": "cb53e9cb-c276-4e33-e16e-418f253ac828"
   },
   "outputs": [],
   "source": [
    "import math\n",
    "from sklearn.metrics import mean_squared_error \n",
    "from sklearn.metrics import mean_absolute_error\n",
    "\n",
    "\n",
    "def accuracy_op(y_train,y_pred):\n",
    "    mse = math.sqrt(mean_squared_error(y_train,y_pred)) \n",
    "    print('Root mean square error', mse) \n",
    "    mse = (mean_squared_error(y_train,y_pred)) \n",
    "    print('Mean square error', mse) \n",
    "    mae=mean_absolute_error(y_train, y_pred)\n",
    "    print('Mean absolute error', mae)"
   ]
  },
  {
   "cell_type": "code",
   "execution_count": 22,
   "metadata": {
    "colab": {
     "base_uri": "https://localhost:8080/",
     "height": 68
    },
    "colab_type": "code",
    "id": "5MHCLwB8tryc",
    "outputId": "ad9b5338-0676-4bf9-aefa-55304c36abd0"
   },
   "outputs": [
    {
     "name": "stdout",
     "output_type": "stream",
     "text": [
      "Root mean square error 0.006868526317647805\n",
      "Mean square error 4.717665377622052e-05\n",
      "Mean absolute error 0.0030302455084800675\n",
      "None\n"
     ]
    }
   ],
   "source": [
    "print(accuracy_op(y_train,y_pred_train))"
   ]
  },
  {
   "cell_type": "code",
   "execution_count": 23,
   "metadata": {
    "colab": {
     "base_uri": "https://localhost:8080/",
     "height": 51
    },
    "colab_type": "code",
    "id": "CNCxoEeu-VDD",
    "outputId": "acec031e-0356-42b5-da09-f02dc22485f8"
   },
   "outputs": [
    {
     "name": "stdout",
     "output_type": "stream",
     "text": [
      "Root mean square error 0.007096657096366186\n",
      "Mean square error 5.036254194340455e-05\n",
      "Mean absolute error 0.003187807551507823\n",
      "None\n"
     ]
    }
   ],
   "source": [
    "print(accuracy_op(y_test,y_pred_test))"
   ]
  }
 ],
 "metadata": {
  "colab": {
   "authorship_tag": "ABX9TyOUtm9SuJu53ch5hKvmbRbW",
   "name": "Assignment-7B.ipynb",
   "provenance": []
  },
  "kernelspec": {
   "display_name": "Python 3",
   "language": "python",
   "name": "python3"
  },
  "language_info": {
   "codemirror_mode": {
    "name": "ipython",
    "version": 3
   },
   "file_extension": ".py",
   "mimetype": "text/x-python",
   "name": "python",
   "nbconvert_exporter": "python",
   "pygments_lexer": "ipython3",
   "version": "3.7.6"
  }
 },
 "nbformat": 4,
 "nbformat_minor": 1
}
